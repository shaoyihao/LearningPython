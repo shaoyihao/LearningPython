{
 "cells": [
  {
   "attachments": {},
   "cell_type": "markdown",
   "metadata": {},
   "source": [
    "# 类对象与实例对象"
   ]
  },
  {
   "cell_type": "code",
   "execution_count": 19,
   "metadata": {},
   "outputs": [],
   "source": [
    "class Person:\n",
    "    planet = \"Earth\"    # 类属性\n",
    "\n",
    "    def __init__(self, name, age):  # 构造函数\n",
    "        self.name = name  # 对实例属性进行赋值\n",
    "        self.age = age\n",
    "\n",
    "\n",
    "    def f(self):     # 实例方法\n",
    "        print(\"Person类 —— 对象 —— \" + self.name + str(self.age))\n",
    "\n",
    "    @staticmethod    # 静态方法（使用 @staticmethod 修饰）\n",
    "    def f2():        # 静态方法的函数参数中不能有 self  \n",
    "        pass\n",
    " \n",
    "    @classmethod     # 类方法（使用 @classmethod 修饰）\n",
    "    def f3(cls):\n",
    "        pass"
   ]
  },
  {
   "attachments": {},
   "cell_type": "markdown",
   "metadata": {},
   "source": [
    "创建的类实则也是一个对象，称为“**类对象**”，会占用内存空间。"
   ]
  },
  {
   "cell_type": "code",
   "execution_count": 2,
   "metadata": {},
   "outputs": [
    {
     "name": "stdout",
     "output_type": "stream",
     "text": [
      "5809136640\n",
      "<class 'type'>\n",
      "<class '__main__.Person'>\n"
     ]
    }
   ],
   "source": [
    "print(id(Person))      # 返回对象的标识符（十进制形式的内存地址）\n",
    "print(type(Person))\n",
    "print(Person)"
   ]
  },
  {
   "attachments": {},
   "cell_type": "markdown",
   "metadata": {},
   "source": [
    "由类对象可以创建多个实例对象，实例对象内部有一个指针指向着对应的类对象。"
   ]
  },
  {
   "cell_type": "code",
   "execution_count": 23,
   "metadata": {},
   "outputs": [],
   "source": [
    "p1 = Person(\"Shao\", 20)"
   ]
  },
  {
   "attachments": {},
   "cell_type": "markdown",
   "metadata": {},
   "source": [
    "调用实例方法有 2 种方式："
   ]
  },
  {
   "cell_type": "code",
   "execution_count": 25,
   "metadata": {},
   "outputs": [
    {
     "name": "stdout",
     "output_type": "stream",
     "text": [
      "Person类 —— 对象 —— Shao20\n",
      "Person类 —— 对象 —— Shao20\n"
     ]
    }
   ],
   "source": [
    "p1.f()           # 通过实例对象来调用\n",
    "Person.f(p1)     # 传入实例对象"
   ]
  },
  {
   "attachments": {},
   "cell_type": "markdown",
   "metadata": {},
   "source": [
    "**类属性被该类的所有实例对象所共享**，指向的是同一片内存空间。"
   ]
  },
  {
   "cell_type": "code",
   "execution_count": 26,
   "metadata": {},
   "outputs": [
    {
     "name": "stdout",
     "output_type": "stream",
     "text": [
      "Earth\n",
      "Earth\n",
      "Earth\n",
      "Mars\n",
      "Mars\n"
     ]
    }
   ],
   "source": [
    "print(Person.planet)\n",
    "\n",
    "p1 = Person(\"Shao\", 20)\n",
    "p2 = Person(\"Wang\", 21)\n",
    "print(p1.planet)\n",
    "print(p2.planet)\n",
    "\n",
    "Person.planet = \"Mars\"\n",
    "print(p1.planet)\n",
    "print(p2.planet)"
   ]
  },
  {
   "attachments": {},
   "cell_type": "markdown",
   "metadata": {},
   "source": [
    "类方法和静态方法都应使用类名来调用。"
   ]
  },
  {
   "attachments": {},
   "cell_type": "markdown",
   "metadata": {},
   "source": [
    "对于已经创建的实例对象，Python支持再向其中添加**属性**和**方法**（动态绑定）。"
   ]
  },
  {
   "cell_type": "code",
   "execution_count": 5,
   "metadata": {},
   "outputs": [
    {
     "name": "stdout",
     "output_type": "stream",
     "text": [
      "man\n"
     ]
    }
   ],
   "source": [
    "p1.gender = 'man'\n",
    "print(p1.gender)"
   ]
  },
  {
   "cell_type": "code",
   "execution_count": 6,
   "metadata": {},
   "outputs": [
    {
     "ename": "AttributeError",
     "evalue": "'Person' object has no attribute 'gender'",
     "output_type": "error",
     "traceback": [
      "\u001b[0;31m---------------------------------------------------------------------------\u001b[0m",
      "\u001b[0;31mAttributeError\u001b[0m                            Traceback (most recent call last)",
      "Cell \u001b[0;32mIn[6], line 1\u001b[0m\n\u001b[0;32m----> 1\u001b[0m \u001b[39mprint\u001b[39m(p2\u001b[39m.\u001b[39;49mgender)\n",
      "\u001b[0;31mAttributeError\u001b[0m: 'Person' object has no attribute 'gender'"
     ]
    }
   ],
   "source": [
    "print(p2.gender)    # 未向 p2 添加该属性，因此会报错"
   ]
  },
  {
   "attachments": {},
   "cell_type": "markdown",
   "metadata": {},
   "source": [
    "# 封装"
   ]
  },
  {
   "attachments": {},
   "cell_type": "markdown",
   "metadata": {},
   "source": [
    "对于私有属性，可将该属性名设置为以 `__` 开头。"
   ]
  },
  {
   "cell_type": "code",
   "execution_count": 9,
   "metadata": {},
   "outputs": [],
   "source": [
    "class Student:\n",
    "    def __init__(self, name, score):\n",
    "        self.name = name\n",
    "        self.__score = score    # 私有属性\n",
    "    \n",
    "    def show(self):\n",
    "        print(self.name + \": \" + str(self.__score))"
   ]
  },
  {
   "cell_type": "code",
   "execution_count": 10,
   "metadata": {},
   "outputs": [
    {
     "name": "stdout",
     "output_type": "stream",
     "text": [
      "shao: 99\n"
     ]
    }
   ],
   "source": [
    "s = Student(\"shao\", 99)\n",
    "s.show()"
   ]
  },
  {
   "attachments": {},
   "cell_type": "markdown",
   "metadata": {},
   "source": [
    "但是事实上，这种写法“只防君子”，只是一种程序员之间的约定，因为要想访问对象中的“私有”属性，还是有别的方法的："
   ]
  },
  {
   "cell_type": "code",
   "execution_count": 14,
   "metadata": {},
   "outputs": [
    {
     "name": "stdout",
     "output_type": "stream",
     "text": [
      "['_Student__score', '__class__', '__delattr__', '__dict__', '__dir__', '__doc__', '__eq__', '__format__', '__ge__', '__getattribute__', '__gt__', '__hash__', '__init__', '__init_subclass__', '__le__', '__lt__', '__module__', '__ne__', '__new__', '__reduce__', '__reduce_ex__', '__repr__', '__setattr__', '__sizeof__', '__str__', '__subclasshook__', '__weakref__', 'name', 'show']\n",
      "99\n"
     ]
    }
   ],
   "source": [
    "print(dir(s))\n",
    "print(s._Student__score)   # 打印属性 _Student__score 的值"
   ]
  },
  {
   "attachments": {},
   "cell_type": "markdown",
   "metadata": {},
   "source": [
    "## 继承"
   ]
  },
  {
   "attachments": {},
   "cell_type": "markdown",
   "metadata": {},
   "source": [
    "Python 支持**多继承**：一个类可以同时继承多个类。\n",
    "\n",
    "定义子类时，必须在其构造函数中调用父类的构造函数。 "
   ]
  },
  {
   "cell_type": "code",
   "execution_count": 16,
   "metadata": {},
   "outputs": [],
   "source": [
    "class Adult(Person):\n",
    "    def __init__(self, name, age, career):\n",
    "        super().__init__(name, age)   # 调用父类的构造函数\n",
    "        self.career = career"
   ]
  },
  {
   "cell_type": "code",
   "execution_count": 18,
   "metadata": {},
   "outputs": [
    {
     "name": "stdout",
     "output_type": "stream",
     "text": [
      "Mars\n"
     ]
    }
   ],
   "source": [
    "a = Adult('Wang', 22, 'teacher');\n",
    "\n",
    "# 从父类中继承的属性\n",
    "print(a.planet)\n",
    "a.f()  "
   ]
  },
  {
   "attachments": {},
   "cell_type": "markdown",
   "metadata": {},
   "source": [
    "### 方法重写\n",
    "子类有时需要对从父类中继承的方法进行**重写**："
   ]
  },
  {
   "cell_type": "code",
   "execution_count": 31,
   "metadata": {},
   "outputs": [],
   "source": [
    "class Adult(Person):\n",
    "    def __init__(self, name, age, career):\n",
    "        super().__init__(name, age)   # 调用父类的构造函数\n",
    "        self.career = career\n",
    "    def f(self):  # 重写父类中的方法\n",
    "        super().f()   # 调用父类中的函数\n",
    "        print(self.career)"
   ]
  },
  {
   "cell_type": "code",
   "execution_count": 32,
   "metadata": {},
   "outputs": [
    {
     "name": "stdout",
     "output_type": "stream",
     "text": [
      "Person类 —— 对象 —— Wang22\n",
      "teacher\n"
     ]
    }
   ],
   "source": [
    "a = Adult('Wang', 22, 'teacher');\n",
    "a.f()"
   ]
  },
  {
   "attachments": {},
   "cell_type": "markdown",
   "metadata": {},
   "source": [
    "若一个类没有继承任何类，则默认继承 `object` 类，因此所有类中都会有 `object` 类中的属性。"
   ]
  },
  {
   "cell_type": "code",
   "execution_count": 33,
   "metadata": {},
   "outputs": [
    {
     "data": {
      "text/plain": [
       "['__class__',\n",
       " '__delattr__',\n",
       " '__dir__',\n",
       " '__doc__',\n",
       " '__eq__',\n",
       " '__format__',\n",
       " '__ge__',\n",
       " '__getattribute__',\n",
       " '__gt__',\n",
       " '__hash__',\n",
       " '__init__',\n",
       " '__init_subclass__',\n",
       " '__le__',\n",
       " '__lt__',\n",
       " '__ne__',\n",
       " '__new__',\n",
       " '__reduce__',\n",
       " '__reduce_ex__',\n",
       " '__repr__',\n",
       " '__setattr__',\n",
       " '__sizeof__',\n",
       " '__str__',\n",
       " '__subclasshook__']"
      ]
     },
     "execution_count": 33,
     "metadata": {},
     "output_type": "execute_result"
    }
   ],
   "source": [
    "dir(object)"
   ]
  },
  {
   "attachments": {},
   "cell_type": "markdown",
   "metadata": {},
   "source": [
    "特别的，注意其中有一个 `__str__()` 方法，功能为**返回对“对象”的描述（字符串）**。对对象使用 `print` 函数时，其实就是调用了 `__str__()` 方法，打印该字符串。在开发中时常需要重写该方法，以输出适当的信息。"
   ]
  },
  {
   "cell_type": "code",
   "execution_count": 34,
   "metadata": {},
   "outputs": [
    {
     "name": "stdout",
     "output_type": "stream",
     "text": [
      "<__main__.Adult object at 0x103e184f0>\n"
     ]
    }
   ],
   "source": [
    "print(a)"
   ]
  },
  {
   "cell_type": "code",
   "execution_count": 43,
   "metadata": {},
   "outputs": [],
   "source": [
    "class Adult(Person):\n",
    "    def __init__(self, name, age, career):\n",
    "        super().__init__(name, age)   # 调用父类的构造函数\n",
    "        self.career = career\n",
    "    def f(self):  # 重写父类中的方法\n",
    "        super().f()   # 调用父类中的函数\n",
    "        print(self.career)\n",
    "    \n",
    "    def __str__(self):   # 重写\n",
    "        return self.name + ' ' + str(self.age) + ' ' + self.career  # 返回新的字符串"
   ]
  },
  {
   "cell_type": "code",
   "execution_count": 44,
   "metadata": {},
   "outputs": [
    {
     "name": "stdout",
     "output_type": "stream",
     "text": [
      "Wang 22 teacher\n"
     ]
    }
   ],
   "source": [
    "a = Adult('Wang', 22, 'teacher');\n",
    "print(a)"
   ]
  },
  {
   "attachments": {},
   "cell_type": "markdown",
   "metadata": {},
   "source": [
    "## 多态\n",
    "\n",
    "即便不知道一个变量的类型，仍然可以通过这个变量调用方法，在运行过程中动态决定。"
   ]
  },
  {
   "cell_type": "code",
   "execution_count": 45,
   "metadata": {},
   "outputs": [],
   "source": [
    "class Animal:\n",
    "    def eat(self):\n",
    "        print(\"Animal eeeeeeat\")\n",
    "\n",
    "class Dog(Animal):\n",
    "    def eat(self):\n",
    "        print(\"Dog eeeeeeat\")\n",
    "\n",
    "class Cat(Animal):\n",
    "    def eat(self):\n",
    "        print(\"Cat eeeeeeat\")\n",
    "\n",
    "class Person:\n",
    "    def eat(self):\n",
    "        print(\"Person eeeeeeat\")"
   ]
  },
  {
   "cell_type": "code",
   "execution_count": 47,
   "metadata": {},
   "outputs": [
    {
     "name": "stdout",
     "output_type": "stream",
     "text": [
      "Dog eeeeeeat\n",
      "Cat eeeeeeat\n",
      "Person eeeeeeat\n"
     ]
    }
   ],
   "source": [
    "def f(X):\n",
    "    X.eat()     # 不论 X 是什么类型，只要该对象中有 eat 方法就可以进行调用\n",
    "\n",
    "f(Dog())\n",
    "f(Cat())\n",
    "f(Person())"
   ]
  },
  {
   "attachments": {},
   "cell_type": "markdown",
   "metadata": {},
   "source": [
    "在静态语言（例如 Java）中，实现多态需要有 3 个条件：①继承，②方法重写，③父类引用指向子类对象。\n",
    "而 Python 是一种**动态语言**，因此无论类之间是否有继承关系，都可以实现多态。"
   ]
  },
  {
   "attachments": {},
   "cell_type": "markdown",
   "metadata": {},
   "source": [
    "## 类中的一些特殊属性和方法\n"
   ]
  },
  {
   "cell_type": "code",
   "execution_count": 56,
   "metadata": {},
   "outputs": [
    {
     "name": "stdout",
     "output_type": "stream",
     "text": [
      "{'name': 'Wang', 'age': 22, 'career': 'teacher'}\n",
      "<class '__main__.Adult'>\n",
      "(<class '__main__.Person'>,)\n",
      "(<class '__main__.Adult'>, <class '__main__.Person'>, <class 'object'>)\n"
     ]
    }
   ],
   "source": [
    "print(a.__dict__)     # 返回对象的属性和值构成的字典\n",
    "print(a.__class__)    # 返回对象所属的类\n",
    "print(Adult.__bases__)    # 返回类的父类构成的元组（可能是多继承）\n",
    "print(Adult.__mro__)    # 返回祖先类的层次结构"
   ]
  },
  {
   "attachments": {},
   "cell_type": "markdown",
   "metadata": {},
   "source": [
    "### 运算符重载"
   ]
  },
  {
   "cell_type": "code",
   "execution_count": 70,
   "metadata": {},
   "outputs": [
    {
     "name": "stdout",
     "output_type": "stream",
     "text": [
      "3\n",
      "3\n"
     ]
    }
   ],
   "source": [
    "a = 1\n",
    "b = 2\n",
    "print(a + b)\n",
    "print(a.__add__(b))   # 2条语句等效"
   ]
  },
  {
   "cell_type": "code",
   "execution_count": 71,
   "metadata": {},
   "outputs": [],
   "source": [
    "class A:\n",
    "    def __init__(self, val):\n",
    "        self.val = val"
   ]
  },
  {
   "cell_type": "code",
   "execution_count": 72,
   "metadata": {},
   "outputs": [
    {
     "ename": "TypeError",
     "evalue": "unsupported operand type(s) for +: 'A' and 'A'",
     "output_type": "error",
     "traceback": [
      "\u001b[0;31m---------------------------------------------------------------------------\u001b[0m",
      "\u001b[0;31mTypeError\u001b[0m                                 Traceback (most recent call last)",
      "Cell \u001b[0;32mIn[72], line 3\u001b[0m\n\u001b[1;32m      1\u001b[0m a \u001b[39m=\u001b[39m A(\u001b[39m10\u001b[39m)\n\u001b[1;32m      2\u001b[0m b \u001b[39m=\u001b[39m A(\u001b[39m20\u001b[39m)\n\u001b[0;32m----> 3\u001b[0m \u001b[39mprint\u001b[39m(a \u001b[39m+\u001b[39;49m b)\n",
      "\u001b[0;31mTypeError\u001b[0m: unsupported operand type(s) for +: 'A' and 'A'"
     ]
    }
   ],
   "source": [
    "a = A(10)\n",
    "b = A(20)\n",
    "print(a + b)"
   ]
  },
  {
   "attachments": {},
   "cell_type": "markdown",
   "metadata": {},
   "source": [
    "重载运算符 `+`，需要对 `__add__()` 方法进行重写。"
   ]
  },
  {
   "cell_type": "code",
   "execution_count": null,
   "metadata": {},
   "outputs": [
    {
     "name": "stdout",
     "output_type": "stream",
     "text": [
      "30\n"
     ]
    }
   ],
   "source": [
    "class A:\n",
    "    def __init__(self, val):\n",
    "        self.val = val\n",
    "    def __add__(self, other):   # 运算符重载\n",
    "        return self.val + other.val\n",
    "\n",
    "a = A(10)\n",
    "b = A(20)\n",
    "print(a + b)"
   ]
  },
  {
   "cell_type": "code",
   "execution_count": null,
   "metadata": {},
   "outputs": [
    {
     "name": "stdout",
     "output_type": "stream",
     "text": [
      "4\n",
      "4\n"
     ]
    }
   ],
   "source": [
    "l = [13, 2, 1, 3]\n",
    "print(len(l))\n",
    "print(l.__len__())   # 2条语句等效"
   ]
  },
  {
   "attachments": {},
   "cell_type": "markdown",
   "metadata": {},
   "source": [
    "通过重写 `__len__()` 方法，可以让内置函数 `len()` 作用于自定义类型。"
   ]
  },
  {
   "attachments": {},
   "cell_type": "markdown",
   "metadata": {},
   "source": [
    "`__new__()` 方法用于创建对象，`__init__()` 方法用于对创建的对象进行初始化。"
   ]
  }
 ],
 "metadata": {
  "kernelspec": {
   "display_name": "Python 3",
   "language": "python",
   "name": "python3"
  },
  "language_info": {
   "codemirror_mode": {
    "name": "ipython",
    "version": 3
   },
   "file_extension": ".py",
   "mimetype": "text/x-python",
   "name": "python",
   "nbconvert_exporter": "python",
   "pygments_lexer": "ipython3",
   "version": "3.10.10"
  },
  "orig_nbformat": 4
 },
 "nbformat": 4,
 "nbformat_minor": 2
}
