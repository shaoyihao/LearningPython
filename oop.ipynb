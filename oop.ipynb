{
 "cells": [
  {
   "attachments": {},
   "cell_type": "markdown",
   "metadata": {},
   "source": [
    "# 类对象与实例对象"
   ]
  },
  {
   "cell_type": "code",
   "execution_count": 1,
   "metadata": {},
   "outputs": [],
   "source": [
    "class Person:\n",
    "    planet = \"Earth\"    # 类属性\n",
    "\n",
    "    def __init__(self, name, age):  # 构造函数\n",
    "        self.name = name  # 对实例属性进行赋值\n",
    "        self.age = age\n",
    "\n",
    "\n",
    "    def f(self):     # 实例方法\n",
    "        pass\n",
    "\n",
    "    @staticmethod    # 静态方法（使用 @staticmethod 修饰）\n",
    "    def f2():        # 静态方法的函数参数中不能有 self  \n",
    "        pass\n",
    " \n",
    "    @classmethod     # 类方法（使用 @classmethod 修饰）\n",
    "    def f3(cls):\n",
    "        pass"
   ]
  },
  {
   "attachments": {},
   "cell_type": "markdown",
   "metadata": {},
   "source": [
    "创建的类实则也是一个对象，称为“**类对象**”，会占用内存空间。"
   ]
  },
  {
   "cell_type": "code",
   "execution_count": 2,
   "metadata": {},
   "outputs": [
    {
     "name": "stdout",
     "output_type": "stream",
     "text": [
      "5809136640\n",
      "<class 'type'>\n",
      "<class '__main__.Person'>\n"
     ]
    }
   ],
   "source": [
    "print(id(Person))      # 返回对象的标识符（十进制形式的内存地址）\n",
    "print(type(Person))\n",
    "print(Person)"
   ]
  },
  {
   "attachments": {},
   "cell_type": "markdown",
   "metadata": {},
   "source": [
    "由类对象可以创建多个实例对象，实例对象内部有一个指针指向着对应的类对象。"
   ]
  },
  {
   "cell_type": "code",
   "execution_count": null,
   "metadata": {},
   "outputs": [],
   "source": [
    "p1 = Person(\"Shao\", 20)"
   ]
  },
  {
   "attachments": {},
   "cell_type": "markdown",
   "metadata": {},
   "source": [
    "调用实例方法有 2 种方式："
   ]
  },
  {
   "cell_type": "code",
   "execution_count": null,
   "metadata": {},
   "outputs": [],
   "source": [
    "p1.f()           # 通过实例对象来调用\n",
    "Person.f(p1)     # 传入实例对象"
   ]
  },
  {
   "attachments": {},
   "cell_type": "markdown",
   "metadata": {},
   "source": [
    "**类属性被该类的所有实例对象所共享**，指向的是同一片内存空间。"
   ]
  },
  {
   "cell_type": "code",
   "execution_count": 3,
   "metadata": {},
   "outputs": [
    {
     "name": "stdout",
     "output_type": "stream",
     "text": [
      "Earth\n",
      "Earth\n",
      "Earth\n",
      "Mars\n",
      "Mars\n"
     ]
    }
   ],
   "source": [
    "print(Person.planet)\n",
    "\n",
    "p1 = Person(\"Shao\", 20)\n",
    "p2 = Person(\"Wang\", 21)\n",
    "print(p1.planet)\n",
    "print(p2.planet)\n",
    "\n",
    "Person.planet = \"Mars\"\n",
    "print(p1.planet)\n",
    "print(p2.planet)"
   ]
  },
  {
   "attachments": {},
   "cell_type": "markdown",
   "metadata": {},
   "source": [
    "类方法和静态方法都应使用类名来调用。"
   ]
  },
  {
   "attachments": {},
   "cell_type": "markdown",
   "metadata": {},
   "source": [
    "对于已经创建的实例对象，Python支持再向其中添加**属性**和**方法**（动态绑定）。"
   ]
  },
  {
   "cell_type": "code",
   "execution_count": 5,
   "metadata": {},
   "outputs": [
    {
     "name": "stdout",
     "output_type": "stream",
     "text": [
      "man\n"
     ]
    }
   ],
   "source": [
    "p1.gender = 'man'\n",
    "print(p1.gender)"
   ]
  },
  {
   "cell_type": "code",
   "execution_count": 6,
   "metadata": {},
   "outputs": [
    {
     "ename": "AttributeError",
     "evalue": "'Person' object has no attribute 'gender'",
     "output_type": "error",
     "traceback": [
      "\u001b[0;31m---------------------------------------------------------------------------\u001b[0m",
      "\u001b[0;31mAttributeError\u001b[0m                            Traceback (most recent call last)",
      "Cell \u001b[0;32mIn[6], line 1\u001b[0m\n\u001b[0;32m----> 1\u001b[0m \u001b[39mprint\u001b[39m(p2\u001b[39m.\u001b[39;49mgender)\n",
      "\u001b[0;31mAttributeError\u001b[0m: 'Person' object has no attribute 'gender'"
     ]
    }
   ],
   "source": [
    "print(p2.gender)    # 未向 p2 添加该属性，因此会报错"
   ]
  },
  {
   "attachments": {},
   "cell_type": "markdown",
   "metadata": {},
   "source": [
    "# 封装"
   ]
  },
  {
   "cell_type": "markdown",
   "metadata": {},
   "source": []
  }
 ],
 "metadata": {
  "kernelspec": {
   "display_name": "Python 3",
   "language": "python",
   "name": "python3"
  },
  "language_info": {
   "codemirror_mode": {
    "name": "ipython",
    "version": 3
   },
   "file_extension": ".py",
   "mimetype": "text/x-python",
   "name": "python",
   "nbconvert_exporter": "python",
   "pygments_lexer": "ipython3",
   "version": "3.10.10"
  },
  "orig_nbformat": 4
 },
 "nbformat": 4,
 "nbformat_minor": 2
}
